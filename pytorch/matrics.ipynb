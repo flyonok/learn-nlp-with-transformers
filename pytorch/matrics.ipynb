{
 "cells": [
  {
   "cell_type": "code",
   "execution_count": 1,
   "id": "60bd2335",
   "metadata": {},
   "outputs": [
    {
     "name": "stdout",
     "output_type": "stream",
     "text": [
      "torch.Size([3, 2, 4])\n"
     ]
    }
   ],
   "source": [
    "import torch\n",
    "\n",
    "# 创建两个批量矩阵\n",
    "batch_size = 3\n",
    "n = 2\n",
    "m = 3\n",
    "p = 4\n",
    "tensor1 = torch.randn(batch_size, n, m)\n",
    "tensor2 = torch.randn(batch_size, m, p)\n",
    "\n",
    "# 计算批量矩阵乘积\n",
    "result = torch.bmm(tensor1, tensor2)\n",
    "print(result.shape)  # 输出 torch.Size([3, 2, 4])\n"
   ]
  },
  {
   "cell_type": "code",
   "execution_count": 2,
   "id": "71b6a249",
   "metadata": {},
   "outputs": [
    {
     "name": "stdout",
     "output_type": "stream",
     "text": [
      "torch.Size([3, 2, 4])\n"
     ]
    }
   ],
   "source": [
    "# 使用 torch.matmul 实现批量矩阵乘法\n",
    "result = torch.matmul(tensor1, tensor2)\n",
    "print(result.shape)  # 输出 torch.Size([3, 2, 4])\n"
   ]
  },
  {
   "cell_type": "code",
   "execution_count": 3,
   "id": "527e80a5-d6b3-4930-86ea-fa6931bf8758",
   "metadata": {},
   "outputs": [
    {
     "name": "stdout",
     "output_type": "stream",
     "text": [
      "tensor([[[-4.2719e-03,  1.2905e+00, -1.3149e+00,  2.4025e+00],\n",
      "         [-4.4930e-01,  1.5606e+00,  1.1943e+00,  6.3577e-01]],\n",
      "\n",
      "        [[-3.7470e-01, -1.4892e-01,  1.8164e+00, -1.7505e+00],\n",
      "         [-1.2793e-01, -5.8788e-01, -5.3199e-01,  7.7035e-01]],\n",
      "\n",
      "        [[-1.4417e+00, -4.9155e+00, -1.6725e+00, -3.9072e+00],\n",
      "         [-5.0906e-01,  1.2745e+00, -1.2360e+00,  3.1004e-01]]])\n"
     ]
    }
   ],
   "source": [
    "print(result)"
   ]
  },
  {
   "cell_type": "code",
   "execution_count": 9,
   "id": "53b2fed3-2ef7-4976-a0a5-2a45f0f30615",
   "metadata": {},
   "outputs": [
    {
     "name": "stdout",
     "output_type": "stream",
     "text": [
      "torch.Size([5, 100])\n"
     ]
    }
   ],
   "source": [
    "import torch.nn as nn\n",
    "\n",
    "# 假设词汇表大小为10000，每个词语的嵌入维度为100\n",
    "vocab_size = 10000\n",
    "embedding_dim = 100\n",
    "\n",
    "# 初始化嵌入层\n",
    "embedding_layer = nn.Embedding(vocab_size, embedding_dim)\n",
    "\n",
    "# 输入一个词语索引序列\n",
    "input_indices = torch.LongTensor([1, 5, 10, 3, 4])\n",
    "\n",
    "# 得到对应的词嵌入向量\n",
    "embeddings = embedding_layer(input_indices)\n",
    "\n",
    "print(embeddings.shape)  # 输出 torch.Size([4, 100])，表示4个词语的嵌入向量，每个向量维度为100\n"
   ]
  },
  {
   "cell_type": "code",
   "execution_count": null,
   "id": "c7e17cd5-0cae-4141-bb9d-3472ab4dad89",
   "metadata": {},
   "outputs": [],
   "source": []
  }
 ],
 "metadata": {
  "kernelspec": {
   "display_name": "Python 3 (ipykernel)",
   "language": "python",
   "name": "python3"
  },
  "language_info": {
   "codemirror_mode": {
    "name": "ipython",
    "version": 3
   },
   "file_extension": ".py",
   "mimetype": "text/x-python",
   "name": "python",
   "nbconvert_exporter": "python",
   "pygments_lexer": "ipython3",
   "version": "3.8.18"
  }
 },
 "nbformat": 4,
 "nbformat_minor": 5
}
